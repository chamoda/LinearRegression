{
 "cells": [
  {
   "cell_type": "code",
   "execution_count": 6,
   "metadata": {
    "collapsed": true
   },
   "outputs": [],
   "source": [
    "from __future__ import division\n",
    "\n",
    "import numpy as np\n",
    "import matplotlib.pyplot as plt"
   ]
  },
  {
   "cell_type": "code",
   "execution_count": 7,
   "metadata": {
    "collapsed": true
   },
   "outputs": [],
   "source": [
    "rng = np.random.RandomState(42)\n",
    "x = rng.rand(100) * 10\n",
    "x = x[:, np.newaxis]\n",
    "b = rng.rand(100) * 5\n",
    "b = b[:, np.newaxis]\n",
    "y = 3 * x + b\n",
    "m = x.shape[0]"
   ]
  },
  {
   "cell_type": "code",
   "execution_count": 8,
   "metadata": {
    "collapsed": true
   },
   "outputs": [],
   "source": [
    "def h(x, theta0, theta1):\n",
    "    return theta0 + theta1 * x"
   ]
  },
  {
   "cell_type": "code",
   "execution_count": 9,
   "metadata": {
    "collapsed": true
   },
   "outputs": [],
   "source": [
    "def cost(x, theta0, theta1):\n",
    "    return np.sum(np.power(h(x, theta0, theta1) - y, 2)) * 1 / 2 * m"
   ]
  },
  {
   "cell_type": "code",
   "execution_count": 10,
   "metadata": {},
   "outputs": [
    {
     "name": "stdout",
     "output_type": "stream",
     "text": [
      "theta0: 2.567988282theta1:2.98323417806\n"
     ]
    }
   ],
   "source": [
    "theta0 = 0\n",
    "theta1 = 0\n",
    "\n",
    "alpha = 0.001\n",
    "\n",
    "iteration = 0\n",
    "\n",
    "while True:\n",
    "    \n",
    "    temp0 = (1 / m) * np.sum(h(x, theta0, theta1) - y)\n",
    "    temp1 = (1 / m) * np.sum((h(x, theta0, theta1) - y) * x)\n",
    "    \n",
    "    theta0 = theta0 - alpha * temp0\n",
    "    theta1 = theta1 - alpha * temp1\n",
    "        \n",
    "    iteration += 1\n",
    "    \n",
    "    if iteration > 100000:\n",
    "        print(\"theta0: \" + str(theta0) + \"theta1:\" + str(theta1))\n",
    "        break"
   ]
  },
  {
   "cell_type": "code",
   "execution_count": 11,
   "metadata": {
    "scrolled": true
   },
   "outputs": [
    {
     "name": "stdout",
     "output_type": "stream",
     "text": [
      "t0: 2.567988282 t1: 2.98323417806\n"
     ]
    }
   ],
   "source": [
    "print(\"t0: \" + str(theta0) + \" t1: \" + str(theta1))"
   ]
  },
  {
   "cell_type": "code",
   "execution_count": 12,
   "metadata": {
    "scrolled": true
   },
   "outputs": [
    {
     "data": {
      "image/png": "[encoded data removed]",
      "text/plain": [
       "<matplotlib.figure.Figure at 0x111696b10>"
      ]
     },
     "metadata": {},
     "output_type": "display_data"
    }
   ],
   "source": [
    "plt.scatter(x, y)\n",
    "plt.plot(x, h(x, theta0, theta1), color='red')\n",
    "plt.show()"
   ]
  },
  {
   "cell_type": "code",
   "execution_count": 13,
   "metadata": {
    "collapsed": true
   },
   "outputs": [],
   "source": [
    "y = h(3, theta0, theta1)"
   ]
  },
  {
   "cell_type": "code",
   "execution_count": 15,
   "metadata": {},
   "outputs": [
    {
     "data": {
      "text/plain": [
       "11.517690816184686"
      ]
     },
     "execution_count": 15,
     "metadata": {},
     "output_type": "execute_result"
    }
   ],
   "source": [
    "y"
   ]
  },
  {
   "cell_type": "code",
   "execution_count": null,
   "metadata": {
    "collapsed": true
   },
   "outputs": [],
   "source": []
  }
 ],
 "metadata": {
  "kernelspec": {
   "display_name": "Python 2",
   "language": "python",
   "name": "python2"
  },
  "language_info": {
   "codemirror_mode": {
    "name": "ipython",
    "version": 2
   },
   "file_extension": ".py",
   "mimetype": "text/x-python",
   "name": "python",
   "nbconvert_exporter": "python",
   "pygments_lexer": "ipython2",
   "version": "2.7.13"
  }
 },
 "nbformat": 4,
 "nbformat_minor": 2
}
